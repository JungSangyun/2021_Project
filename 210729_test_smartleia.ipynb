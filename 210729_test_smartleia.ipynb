{
 "cells": [
  {
   "cell_type": "markdown",
   "id": "9be800e6",
   "metadata": {},
   "source": [
    "# funcard Program"
   ]
  },
  {
   "cell_type": "code",
   "execution_count": null,
   "id": "bd1dd021",
   "metadata": {},
   "outputs": [],
   "source": [
    "import smartleia as sl"
   ]
  },
  {
   "cell_type": "code",
   "execution_count": null,
   "id": "cf97e5eb",
   "metadata": {},
   "outputs": [],
   "source": [
    "reader = sl.LEIA()"
   ]
  },
  {
   "cell_type": "code",
   "execution_count": null,
   "id": "34824370",
   "metadata": {},
   "outputs": [],
   "source": [
    "print('Connection with', reader.ser.name)"
   ]
  },
  {
   "cell_type": "code",
   "execution_count": null,
   "id": "319eed6a",
   "metadata": {},
   "outputs": [],
   "source": [
    "reader.flasher()"
   ]
  },
  {
   "cell_type": "markdown",
   "id": "c24bfbf6",
   "metadata": {},
   "source": [
    "In bash\n",
    "``` bash\n",
    "avrdude -p m8515 -c avrisp2 -P COM7 -U flash:w:`ls smartleia-target-funcard/src/build/aes*.hex`:i -U eeprom:w:`ls smartleia-target-funcard/src/build/eedata*.hex`:i\n",
    "```\n",
    "\n",
    "Or, in cmd\n",
    "```\n",
    "avrdude -p m8515 -c avrisp2 -P COM7 -U flash:w:smartleia-target-funcard\\src\\build\\aes-300721-124817.hex:i -U eeprom:w:smartleia-target-funcard\\src\\build\\eedata-300721-124818.hex:i\n",
    "```"
   ]
  },
  {
   "cell_type": "markdown",
   "id": "82c2c09e",
   "metadata": {},
   "source": [
    "# Communication with card"
   ]
  },
  {
   "cell_type": "markdown",
   "id": "5dafcfeb",
   "metadata": {},
   "source": [
    "Example of communication with korean financial IC card\n",
    "\n",
    "```\n",
    "ATR(Cold): 3B6800000073C84011009000\n",
    "\n",
    "[APDU COMMAND]: 00A4040007 D4106509900010\n",
    "[RECEIVE DATA]: 612A\n",
    "\n",
    "[APDU COMMAND]: 00C000002A\n",
    "[RECEIVE DATA]: 6F288407D4106509900010A51D5010C7CFB3AAC7F6B1DDC4ABB5E500000000BF0C0801010000000000819000\n",
    "\n",
    "[APDU COMMAND]: 90E4008120 0123456789ABCDEF0123456789ABCDEF0123456789ABCDEF0123456789ABCDEF\n",
    "[RECEIVE DATA]: 6120\n",
    "\n",
    "[APDU COMMAND]: 00C0000020\n",
    "[RECEIVE DATA]: AD5F4EADBE5362BAF89369EC997D9EAFA275D41C3DDFB009ED1506B72A1390009000\n",
    "```"
   ]
  },
  {
   "cell_type": "code",
   "execution_count": null,
   "id": "ef44874c",
   "metadata": {},
   "outputs": [],
   "source": []
  },
  {
   "cell_type": "code",
   "execution_count": null,
   "id": "8a41f746",
   "metadata": {},
   "outputs": [],
   "source": [
    "import smartleia as sl"
   ]
  },
  {
   "cell_type": "code",
   "execution_count": null,
   "id": "8b6f0333",
   "metadata": {},
   "outputs": [],
   "source": [
    "reader = sl.LEIA()\n",
    "print('Connection with', reader.ser.name)"
   ]
  },
  {
   "cell_type": "code",
   "execution_count": null,
   "id": "d79df7a4",
   "metadata": {},
   "outputs": [],
   "source": [
    "reader.is_card_inserted()"
   ]
  },
  {
   "cell_type": "markdown",
   "id": "eed1003a",
   "metadata": {},
   "source": [
    "### TODO: try negotiation\n",
    "\n",
    "``` python\n",
    "reader.configure_smartcard(negotiate_pts=False)\n",
    "reader.configure_smartcard(protocol_to_use=1,  # Use T=1\n",
    "                           ETU_to_use=None,    # Let the reader determine the ETU to use\n",
    "                           freq_to_use=None,   # Let the reader determine the freq to use\n",
    "                           negotiate_pts=True, # Let the reader negotiate the PTS\n",
    "                           negotiate_baudrate=True\n",
    ")\n",
    "reader.configure_smartcard(protocol_to_use=1)\n",
    "```"
   ]
  },
  {
   "cell_type": "code",
   "execution_count": null,
   "id": "da561c94",
   "metadata": {},
   "outputs": [],
   "source": [
    "reader.set_trigger_strategy(0,\n",
    "                            [sl.TriggerPoints.TRIG_GET_ATR_PRE,\n",
    "                             sl.TriggerPoints.TRIG_GET_ATR_POST,\n",
    "                             sl.TriggerPoints.TRIG_POST_RESP],\n",
    "                            delay=0,\n",
    "                            single=0)\n",
    "# TRIG_PRE_SEND_APDU\n",
    "# TRIG_POST_RESP "
   ]
  },
  {
   "cell_type": "code",
   "execution_count": null,
   "id": "ed26bc79",
   "metadata": {},
   "outputs": [],
   "source": [
    "reader.set_trigger_strategy(0,\n",
    "                            [sl.TriggerPoints.TRIG_GET_ATR_PRE,\n",
    "                             sl.TriggerPoints.TRIG_GET_ATR_POST],\n",
    "                            delay=0,\n",
    "                            single=0)\n",
    "# TRIG_PRE_SEND_APDU\n",
    "# TRIG_POST_RESP "
   ]
  },
  {
   "cell_type": "code",
   "execution_count": null,
   "id": "b1b5fe3b",
   "metadata": {},
   "outputs": [],
   "source": [
    "ATR = reader.get_ATR() \n",
    "print(ATR)\n",
    "print(f\"We are using protocol T={ATR.T_protocol_curr} and the frequence of the ISO7816 clock is {ATR.f_max_curr/1000} kHz !\")"
   ]
  },
  {
   "cell_type": "code",
   "execution_count": null,
   "id": "34c24080",
   "metadata": {},
   "outputs": [],
   "source": [
    "reader.configure_smartcard(protocol_to_use=0)"
   ]
  },
  {
   "cell_type": "code",
   "execution_count": null,
   "id": "ec7f1883",
   "metadata": {},
   "outputs": [],
   "source": [
    "ATR = reader.get_ATR() \n",
    "print(ATR)\n",
    "print(f\"We are using protocol T={ATR.T_protocol_curr} and the frequence of the ISO7816 clock is {ATR.f_max_curr/1000} kHz !\")"
   ]
  },
  {
   "cell_type": "code",
   "execution_count": null,
   "id": "c7ff394c",
   "metadata": {},
   "outputs": [],
   "source": [
    "reader.reset()"
   ]
  },
  {
   "cell_type": "code",
   "execution_count": null,
   "id": "70d367ed",
   "metadata": {},
   "outputs": [],
   "source": []
  },
  {
   "cell_type": "code",
   "execution_count": null,
   "id": "e8f60812",
   "metadata": {},
   "outputs": [],
   "source": [
    "import binascii\n",
    "\n",
    "#apdu_ = sl.create_APDU_from_bytes(binascii.unhexlify(''))\n",
    "#apdu_ = sl.APDU(cla=0x00, ins=0x01, p1=0x00, p2=0x00)\n",
    "# cla ins p1 p2 lc data le\n",
    "\n",
    "apdu_selectdf = sl.create_APDU_from_bytes(binascii.unhexlify('00A4040007D4106509900010'))\n",
    "apdu_getresponse_selectdf = sl.create_APDU_from_bytes(binascii.unhexlify('00C000002A'))\n",
    "apdu_getcipher = sl.create_APDU_from_bytes(binascii.unhexlify('90E4008120'\n",
    "                                                              + '0123456789ABCDEF0123456789ABCDEF0123456789ABCDEF0123456789ABCDEF'))\n",
    "apdu_getresponse_getcipher = sl.create_APDU_from_bytes(binascii.unhexlify('00C0000020'))"
   ]
  },
  {
   "cell_type": "code",
   "execution_count": null,
   "id": "1731558a",
   "metadata": {},
   "outputs": [],
   "source": [
    "resp = reader.send_APDU(apdu_selectdf)\n",
    "print(resp)\n",
    "print(resp.sw2)"
   ]
  },
  {
   "cell_type": "code",
   "execution_count": null,
   "id": "e312405d",
   "metadata": {},
   "outputs": [],
   "source": [
    "resp = reader.send_APDU(apdu_getresponse_selectdf)\n",
    "print(resp)\n",
    "print('Response: ', ''.join(['%02X' % i for i in resp.data]))"
   ]
  },
  {
   "cell_type": "code",
   "execution_count": null,
   "id": "9c36c857",
   "metadata": {
    "scrolled": true
   },
   "outputs": [],
   "source": [
    "print(apdu_getcipher)\n",
    "resp = reader.send_APDU(apdu_getcipher)\n",
    "print(resp)"
   ]
  },
  {
   "cell_type": "code",
   "execution_count": null,
   "id": "f0ac62c4",
   "metadata": {},
   "outputs": [],
   "source": [
    "resp = reader.send_APDU(apdu_getresponse_getcipher)\n",
    "print(resp)\n",
    "print('Response: ', ''.join(['%02X' % i for i in resp.data]))"
   ]
  },
  {
   "cell_type": "code",
   "execution_count": null,
   "id": "55f47e29",
   "metadata": {},
   "outputs": [],
   "source": [
    "reader.close()"
   ]
  },
  {
   "cell_type": "code",
   "execution_count": null,
   "id": "2683d8ac",
   "metadata": {},
   "outputs": [],
   "source": []
  },
  {
   "cell_type": "markdown",
   "id": "224cb0ca",
   "metadata": {},
   "source": [
    "아래 오실로스코프 파형 불러오기는 https://github.com/mcsmonk/dsopy-lecroy 코드 이용"
   ]
  },
  {
   "cell_type": "code",
   "execution_count": null,
   "id": "3e967675",
   "metadata": {},
   "outputs": [],
   "source": [
    "import numpy as np\n",
    "import matplotlib.pyplot as plt\n",
    "from lecroywin32com import LeCroyScope"
   ]
  },
  {
   "cell_type": "code",
   "execution_count": null,
   "id": "359fa562",
   "metadata": {},
   "outputs": [],
   "source": [
    "ip = '163.152.90.119'"
   ]
  },
  {
   "cell_type": "code",
   "execution_count": null,
   "id": "21a5853a",
   "metadata": {},
   "outputs": [],
   "source": [
    "dso = LeCroyScope(ip)\n",
    "dso.clear()"
   ]
  },
  {
   "cell_type": "code",
   "execution_count": null,
   "id": "c70f74fc",
   "metadata": {},
   "outputs": [],
   "source": [
    "desc = dso.get_wavedesc()\n",
    "print(desc)"
   ]
  },
  {
   "cell_type": "code",
   "execution_count": null,
   "id": "5f16e64d",
   "metadata": {},
   "outputs": [],
   "source": [
    "t2 = dso.get_waveform('C1')"
   ]
  },
  {
   "cell_type": "code",
   "execution_count": null,
   "id": "67a317fd",
   "metadata": {},
   "outputs": [],
   "source": [
    "plt.plot(t2)\n",
    "plt.show()"
   ]
  },
  {
   "cell_type": "code",
   "execution_count": null,
   "id": "f9ed3d3b",
   "metadata": {},
   "outputs": [],
   "source": []
  },
  {
   "cell_type": "code",
   "execution_count": null,
   "id": "5babd281",
   "metadata": {},
   "outputs": [],
   "source": []
  }
 ],
 "metadata": {
  "kernelspec": {
   "display_name": "Python 3",
   "language": "python",
   "name": "python3"
  },
  "language_info": {
   "codemirror_mode": {
    "name": "ipython",
    "version": 3
   },
   "file_extension": ".py",
   "mimetype": "text/x-python",
   "name": "python",
   "nbconvert_exporter": "python",
   "pygments_lexer": "ipython3",
   "version": "3.9.5"
  }
 },
 "nbformat": 4,
 "nbformat_minor": 5
}
